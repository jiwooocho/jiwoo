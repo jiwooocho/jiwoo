{
 "cells": [
  {
   "cell_type": "code",
   "execution_count": 1,
   "id": "cc282634-de2c-41bc-89e7-6c98d9301161",
   "metadata": {},
   "outputs": [
    {
     "name": "stdout",
     "output_type": "stream",
     "text": [
      "8\n",
      "8\n",
      "15\n",
      "15.5\n"
     ]
    }
   ],
   "source": [
    "def sum1(a, b):\n",
    "    x = a + b\n",
    "    return x\n",
    "\n",
    "def sum2(*args):\n",
    "    x = 0\n",
    "    for i in args:\n",
    "        x += i\n",
    "    return x\n",
    "\n",
    "a = 5\n",
    "b = 3\n",
    "\n",
    "print(sum1(a, b))\n",
    "print(sum1(3, 5))\n",
    "print(sum2(1, 2, 3, 4, 5))\n",
    "print(sum2(2, 3.5, 10))"
   ]
  },
  {
   "cell_type": "code",
   "execution_count": null,
   "id": "e40bf334-9438-44b1-8257-bb0bf4f68ee4",
   "metadata": {},
   "outputs": [],
   "source": []
  }
 ],
 "metadata": {
  "kernelspec": {
   "display_name": "Python 3 (ipykernel)",
   "language": "python",
   "name": "python3"
  },
  "language_info": {
   "codemirror_mode": {
    "name": "ipython",
    "version": 3
   },
   "file_extension": ".py",
   "mimetype": "text/x-python",
   "name": "python",
   "nbconvert_exporter": "python",
   "pygments_lexer": "ipython3",
   "version": "3.11.7"
  }
 },
 "nbformat": 4,
 "nbformat_minor": 5
}
